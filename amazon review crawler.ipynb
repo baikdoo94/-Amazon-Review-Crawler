{
 "cells": [
  {
   "cell_type": "markdown",
   "metadata": {},
   "source": [
    "아마존 리뷰 크롤러입니다."
   ]
  },
  {
   "cell_type": "markdown",
   "metadata": {},
   "source": [
    "### 참조 코드\n",
    "+ 아래 주소의 코드를 참조하여 작성되었습니다. \n",
    "</br>\n",
    "\n",
    "+ 아래 참조 코드는 아마존 사이트가 동적으로 바뀌면서 html정보를 읽어오지 못하므로 작동하지 않습니다.\n",
    "https://shpro.tistory.com/entry/%ED%8C%8C%EC%9D%B4%EC%8D%AC3-%EC%9B%B9%ED%81%AC%EB%A1%A4%EB%A7%81-Python3-Webcrawling-with-BeautifulSoup"
   ]
  },
  {
   "cell_type": "code",
   "execution_count": 1,
   "metadata": {},
   "outputs": [],
   "source": [
    "#chromedriver와 selenium을 설치해주세요.\n",
    "# cmd 창에 chcp 65001 실행\n",
    "import re, requests, csv\n",
    "from tqdm import tqdm\n",
    "from bs4 import BeautifulSoup\n",
    "from time import sleep\n",
    "from selenium import webdriver"
   ]
  },
  {
   "cell_type": "code",
   "execution_count": 2,
   "metadata": {},
   "outputs": [],
   "source": [
    "#페이지의 베이스 url을 적어줍니다. 예시는 오버워치 콜렉터\n",
    "base_url = \"https://www.amazon.com/Overwatch-Collectors-PC/product-reviews/B017L187X2/ref=cm_cr_dp_see_all_summary?ie=UTF8&showViewpoints=1&sortBy=helpful&pageNumber=\""
   ]
  },
  {
   "cell_type": "code",
   "execution_count": 3,
   "metadata": {},
   "outputs": [],
   "source": [
    "# 각 리뷰는 딕셔너리로 되어있으며 이 딕셔너리들이 저장될 리스트가 reviews입니다.\n",
    "#pages에는 크롤링을 원하는 페이지 수를 적어주세요\n",
    "reviews = []\n",
    "NUM_PAGES = 8"
   ]
  },
  {
   "cell_type": "code",
   "execution_count": 4,
   "metadata": {},
   "outputs": [],
   "source": [
    "#크롬드라이버 경로\n",
    "driver_path = 'C:/Users/USER/Downloads/chromedriver_win32/chromedriver'"
   ]
  },
  {
   "cell_type": "code",
   "execution_count": 5,
   "metadata": {},
   "outputs": [],
   "source": [
    "def reviews_text(div):\n",
    "    \"\"\"책에 대한 div 태그가 주어지면 \n",
    "    해당 책의 정보를 추출하고 결과를 dict로 반환\"\"\"\n",
    "    \n",
    "    review_text = div.find_all('span', 'review-text')[0].text.strip() \n",
    "    \n",
    "    review_date = div.find_all('span', 'review-date')[0].text\n",
    "    review_date  = ''.join(review_date.split()[-3:])\n",
    "    \n",
    "    review_profile_name = div.find_all('span', 'a-profile-name')[0].text\n",
    "    \n",
    "    review_star = div.find_all('i')[0].text[:3]\n",
    "    \n",
    "    return {'review_date':review_date,\n",
    "            'review_text':review_text,\n",
    "           'review_profile_name':review_profile_name,\n",
    "           'review_star':review_star}"
   ]
  },
  {
   "cell_type": "code",
   "execution_count": 6,
   "metadata": {},
   "outputs": [
    {
     "name": "stderr",
     "output_type": "stream",
     "text": [
      "\r",
      "  0%|                                                                                            | 0/8 [00:00<?, ?it/s]"
     ]
    },
    {
     "name": "stdout",
     "output_type": "stream",
     "text": [
      "souping page 1 , 0 의 data를 수집\n"
     ]
    },
    {
     "name": "stderr",
     "output_type": "stream",
     "text": [
      "\n",
      "  0%|                                                                                           | 0/10 [00:00<?, ?it/s]\n",
      " 12%|██████████▌                                                                         | 1/8 [00:38<04:31, 38.79s/it]"
     ]
    },
    {
     "name": "stdout",
     "output_type": "stream",
     "text": [
      "souping page 2 , 10 의 data를 수집\n"
     ]
    },
    {
     "name": "stderr",
     "output_type": "stream",
     "text": [
      "\n",
      "  0%|                                                                                           | 0/10 [00:00<?, ?it/s]\n",
      " 25%|█████████████████████                                                               | 2/8 [01:16<03:50, 38.49s/it]"
     ]
    },
    {
     "name": "stdout",
     "output_type": "stream",
     "text": [
      "souping page 3 , 20 의 data를 수집\n"
     ]
    },
    {
     "name": "stderr",
     "output_type": "stream",
     "text": [
      "\n",
      "  0%|                                                                                           | 0/10 [00:00<?, ?it/s]\n",
      " 38%|███████████████████████████████▌                                                    | 3/8 [01:54<03:11, 38.40s/it]"
     ]
    },
    {
     "name": "stdout",
     "output_type": "stream",
     "text": [
      "souping page 4 , 30 의 data를 수집\n"
     ]
    },
    {
     "name": "stderr",
     "output_type": "stream",
     "text": [
      "\n",
      "  0%|                                                                                           | 0/10 [00:00<?, ?it/s]\n",
      " 50%|██████████████████████████████████████████                                          | 4/8 [02:33<02:33, 38.48s/it]"
     ]
    },
    {
     "name": "stdout",
     "output_type": "stream",
     "text": [
      "souping page 5 , 40 의 data를 수집\n"
     ]
    },
    {
     "name": "stderr",
     "output_type": "stream",
     "text": [
      "\n",
      "  0%|                                                                                           | 0/10 [00:00<?, ?it/s]\n",
      " 62%|████████████████████████████████████████████████████▌                               | 5/8 [03:11<01:54, 38.28s/it]"
     ]
    },
    {
     "name": "stdout",
     "output_type": "stream",
     "text": [
      "souping page 6 , 50 의 data를 수집\n"
     ]
    },
    {
     "name": "stderr",
     "output_type": "stream",
     "text": [
      "\n",
      "  0%|                                                                                           | 0/10 [00:00<?, ?it/s]\n",
      " 75%|███████████████████████████████████████████████████████████████                     | 6/8 [03:49<01:16, 38.18s/it]"
     ]
    },
    {
     "name": "stdout",
     "output_type": "stream",
     "text": [
      "souping page 7 , 60 의 data를 수집\n"
     ]
    },
    {
     "name": "stderr",
     "output_type": "stream",
     "text": [
      "\n",
      "  0%|                                                                                           | 0/10 [00:00<?, ?it/s]\n",
      " 88%|█████████████████████████████████████████████████████████████████████████▌          | 7/8 [04:26<00:38, 38.04s/it]"
     ]
    },
    {
     "name": "stdout",
     "output_type": "stream",
     "text": [
      "souping page 8 , 70 의 data를 수집\n"
     ]
    },
    {
     "name": "stderr",
     "output_type": "stream",
     "text": [
      "\n",
      "  0%|                                                                                           | 0/10 [00:00<?, ?it/s]\n",
      "100%|████████████████████████████████████████████████████████████████████████████████████| 8/8 [05:04<00:00, 38.00s/it]\n"
     ]
    }
   ],
   "source": [
    "for page_num in tqdm(range(1, NUM_PAGES + 1)):\n",
    "    print('souping page', page_num, ',', len(reviews), '의 data를 수집')\n",
    "    url = base_url + str(page_num)\n",
    "    \n",
    "    driver = webdriver.Chrome(driver_path)\n",
    "    driver.implicitly_wait(3)\n",
    "    driver.get(url)\n",
    "    \n",
    "    soup = BeautifulSoup(driver.page_source, 'html')\n",
    "    \n",
    "    \n",
    "    for div in soup('div', 'a-section review aok-relative'):\n",
    "        reviews.append(reviews_text(div))\n",
    "    \n",
    "    sleep(30)\n",
    "    driver.quit()"
   ]
  },
  {
   "cell_type": "code",
   "execution_count": 7,
   "metadata": {},
   "outputs": [
    {
     "data": {
      "text/plain": [
       "[{'review_date': 'May24,2016',\n",
       "  'review_text': 'Although I\\'ve succumbed to the urge less frequently these past few years - due to finances or due to disappointment with games that didn\\'t pan out after I shelled out for the CE - I am a Collector\\'s Edition Addict. I love everything about getting one. Finding it available online! Eeee! Ordering it and knowing it\\'s coming in the mail at launch date! Eagerly awaiting for the post delivery that day of launch. Opening the brown outer carton and revealing the CE case for the first time with all of the details on it. Cracking open the CE and looking at each and every piece with giant, goggly \"kid at Christmas\" eyes. Looking through art books. Listening to soundtracks. Putting in goodie codes with mounts, pets, characters, outfit skins, etc. The whole experience, it\\'s like grown-up Christmas to me. I am 36, and I think this is about as grown-up as I care to get! May I always find joy in the little things and in new games! And may you do the same!So, Overwatch came in the mail. I got the CE through Amazon Prime at 20% off the lowest list price if made on Pre-Order. I am such a fan of this promotion that I have a few other games on pre-order in the works for the rest of the summer and year. I picked up the box and I was confused, trying to think what else I had forgotten to have ordered. My bf\\'s Origins Edition was in a separate box - so that wasn\\'t it. The thing was huge and weighed 17lbs! I brought her to my bed, cracked her open and inside was *another* box. Smaller, heavier gauge cardboard. It popped open to reveal an insane amount of cardboard lining and my Overwatch CE gently nestled inside within a sheet of plastic.So, I had my boyfriend hold down the box and I lifted the CE up and out of the carton. It was heavy, too! And as my photos will show, this thing has an insane case. It\\'s all cardboard but it\\'s *nice* - thick and there is beveling and hinges. It\\'s pretty crazy.Inside are all the goodies we were promised. And they are all gorgeous and beyond expectation. Let\\'s go over them below:1. Let\\'s go for the big guns, and what is half the interior of the CE case. The Soldier 76 statue, while plastic, is huge and gorgeous. It\\'s well molded and has a faux distressed metal patina that is spot on. It\\'s now perched upon my sexy white Destiny PS4, and it looks awesome! Since I\\'ve no interest in reselling (I buy these CEs for MY own personal joy, not resell value!) there is no way I am putting this baby aside unless I am dusting it or moving.2. The art book is a tactile experience. It\\'s sheeted in a thick plastic sleeve-case. Within that is a book with that awesome-feeling smooth rubbery coated covers. I always love that coating on a book cover. I literally bought a book once recently, in part, because when I picked it up it had that smooth, lovely coating and I love the way that feels in the hands as I read. Inside are great renditions of characters, places and such. It\\'s a beautiful book and I love that cover art, too. That would make an awesome wrap around shirt.3. Under the art book is the Steelbook case. It\\'s pretty simple and as expected, but it\\'s beautiful and always a nice touch.4. The CD, while in a disappointing paper card case, is something I always love. It has a booklet and I\\'ve already listened to the music once since getting it, while I was getting ready for bed.5. There are art postcards of each zone. Beautiful, thick paper and artwork.6. An assortment of game codes for all the other Blizzard games in the current line up. Some are the prerequisite \"Guest Pass\" codes, but others contain codes for heroes, card packs, etc. This is a nice add-on.Overall, this has been my favorite CE unveiling in - forever - and with Amazon Prime the price wasn\\'t even that bad. I think it was $103? For all the goodies, and for the experience, and the knowledge that I really enjoy the game itself (played in closed beta) you can color me a happy camper with the purchase of this CE.Do I recommend to others? Well, do you think you will like the game? It most reminds me of a gussied up, more fleshed out, Team Fortress type of game. It\\'s gorgeous, colorful, slick as hell, fast-paced and multi-layered in content and rewards for each match. You can play vs. AI or vs. Players. I am not going to go into too much here because this is mostly a review for the CE box itself, but if this interests you and you like Collector\\'s Editions I think you will be very pleased with the Overwatch CE. Hands down best CE I\\'ve ordered in years, could only be made better with perhaps a Winston or Mercy statue instead of the (imo somewhat generic dude with a gun silhouette) of the Soldier 76, and a nicer case on the soundtrack. That said, bottom line this is a 6 of 5 star item, as it exceeded my expectation and was so thrilling to unwrap it had 3 people entertained and \"Oooo\\'ing and Ahhh\\'ing\" over it.Note: I added the max of 20 shots of the box and goodies (They *are* fairly small images though - I sent them from my phone via email so had to conserve a little space!) lots of which are the outer carton to give a feel for what it\\'s like when you open it, which is at least half the fun of getting a CE. Hope this helps! And enjoy YOUR Collector\\'s Edition. Cause I am guessing by now, you want one, too! :-)UPDATE 05/31/2016: I wanted to mention that the MSRP for this item was 129.99. When I bought it through the Amazon Prime Pre-Order program it was cut down to ~$103. That is what I fully expected to pay and I felt it was a good deal for what I was getting. When I got the item - with all it\\'s goodies - I felt great about the purchase for sure. A couple days later I got an email saying that the Pre-Order Price Guarantee (which says I get the lowest price it dips to after pre-ordering and by time of release) was going to save me an additional $37.77 off the $103 price I already thought was great. So I essentially ended up getting the Collector\\'s Edition Overwatch for $65 - or ~$5 more than most folks paid for the Origins edition. Also, having bought the Origins edition for my boyfriend at the 20% off price of ~$47.99, I ended up getting $11-12 back on that, making the Origins the cost of the base edition game.I am beyond thrilled, and though I know such a savings won\\'t always happen - I am going to buy through Amazon from here on out as it is an automatic 20% off and potentially a lot more than that, when you get lucky. Just something to keep in mind.',\n",
       "  'review_profile_name': 'Call of Kthalia',\n",
       "  'review_star': '5.0'},\n",
       " {'review_date': 'November12,2017',\n",
       "  'review_text': \"I never got the whole unboxing experience till I got this. This was my first Overwatch purchase. I couldn't get myself to buy just a game code. A lot of love and care went into the design as well as the materials used for this. The soldiier 76 statue could be used as a selling point but almost everything if not everything in here is freaking quality. I'll try not to provide spoilers. Hopefully you'll get the same amount of joy I got from opening this. I will say it is more than just the game and the statue and the box of inception. Seriously it's a box in a box in a box.... From an engineer perspective it was also great seeing how innovative they were with packing all the items that they did in this box.I paid $80... I might have paid full price. As I type this it's $60. Which is a freaking steal. I actually want to buy it again so you can't get it for that much. But I remembered that I have left my evil ways.\",\n",
       "  'review_profile_name': 'TheMrRick',\n",
       "  'review_star': '5.0'},\n",
       " {'review_date': 'May26,2016',\n",
       "  'review_text': \"This collector's edition consists of a few things:- Overwatch game (in metal casing)- Artbook- Soundtrack- Postcards- Soldier 76 statue- Free codes for other gamesI'll start with the packaging. The box is huge!!! The artwork, despite being one we seen online, looks really nice on the box. I love the design of the box, although the white parts seem dirty to me. I suspect it is from the black outer casing rubbing on the white box, but it's fine with me.The game, 1 disc, is in a metal casing, which is slim and nice. It has a simple design: Tracer on the front, Reaper on the back. Inside the case is the disc, the CD key and the code for the Noire Widowmaker skin. All digital bonuses for Overwatch and the other Blizzard games are immediately redeemed once you install/register your copy of the game. This means you cannot choose to give the Hearthstone sleeves/Diablo 3 wings/Tracer hero to other friends. Just something to note.The postcards are of the various maps in the game, which is really nice to look at. I'm not really a postcards fan, so I will leave them aside.There is a soundtrack, which I have yet to open up. It comes in a compact CD casing. From what I know, it consists of the tracks heard in the game. I do not have much to comment on this.The Soldier 76 statue is the 2nd biggest reason why I bought the CE. The statue comes in its own box, and consists of the statue itself and a really heavy base. Assembling it is simple: Insert the long, metal pegs at the bottom of Soldier 76's feet into the peg holes in the base. You may need to open his legs a bit, but the statue will not suffer damage. The statue is really tall, at around 12 inches tall. And there is some weight to it. The statue does not have any colours, but he is really detailed and well-proportioned. Blizzard definitely did not cut corners with this guy.The main reason why I wanted the CE is the artbook. The artbook itself has an transparent outer sleeve/casing that has minimal design. The cover of the artbook alone is gorgeous, being a artwork by Arnold Tsang (he has done quite a lot of Overwatch artworks). The artbook shows every hero in the game and the locations, along with interesting backstory and additional information. Much of this information can actually be found online already, but to have an artbook is really something else. The pictures are really nice, although many have been seen already. There is definitely more lore in this book, along with words from the developers (although that's not something I was interested in reading)!Lastly, the CE came with codes to redeem for the other Blizzard games. Free trial for World of Warcraft, free trial for Starcraft 2, free hero for Heroes of the Storm (mine was Jaina), and codes for 3 card packs in Hearthstone. Seeing as how difficult it is to get card packs in Hearthstone, I was pleasantly surprised with that last freebie.Do I think that this set is worth it? If you are a huge Blizzard/Overwatch fan, then yes, get it. I pre-ordered it on Amazon, and got a really good deal for it (total of USD$93 only). For the price I'm paying, I feel that I was definitely getting a lot more than I paid for. If you only want to play the game, I would recommend the Origins Edition or basic edition instead!\",\n",
       "  'review_profile_name': 'Ng Jan Ile',\n",
       "  'review_star': '5.0'},\n",
       " {'review_date': 'July22,2016',\n",
       "  'review_text': \"Like the game, however the packaging on the collectors edition was a bit over the top... The shipping box contained a drop-ship box inside... inside that was the display box.  Finally, cut off the paper sleeve, and then remove the outer box, open the inner box, finally all that I was trying to get to.  Yes, the box was nice looking... that said all in all, the amount of packaging just seemed excessive, and didn't really do much considering it is a pretty big box, and I'm tossing that into the recycling bin anyway. Shipping and packaging aside, the statue is cool, and the other extras are worth the price difference above origins.The game is pretty nice, hopefully I'll get a bit better since it's been over a decade since I've played any game regularly, this caught my attention with gameplay that reminded me of Team Fortress, with modernized graphics... I've traded in my dual monitors for a single 4k display, and upped to a GTX 1080 to have playable framerates at 1440p settings.  All in all, really like the game, packaging could have been friendlier.\",\n",
       "  'review_profile_name': 'Tracker1',\n",
       "  'review_star': '4.0'},\n",
       " {'review_date': 'June2,2016',\n",
       "  'review_text': \"This is my first collector's edition I have ever purchased and couldn't be more satisfied. Played the game in beta and I was originally going to buy the Origins Edition, but found out the collectors came with a nice artbook and Soldier:76 statue, i was sold. Blizzard definitely knows how to satisfy customers with their amazing work, packaging was beautiful (its the small things that count). Even the Boxes were amazing; boxes are so nice I can't even throw them away. Beautiful soundtrack, AMAZING art-book, I loved the Soldier: 76 bio and story they added to him in the artbook. LOVED the Soldier: 76 statue, great edition to my collection. loved the postcards. Even though I didn't need the game CD it still came in an aluminum hard cover case, still nice to put into a collection. I am completely satisfied with my purchase and will buy more Blizzard collectors editions in the future.\",\n",
       "  'review_profile_name': 'Keng Her',\n",
       "  'review_star': '5.0'},\n",
       " {'review_date': 'January19,2017',\n",
       "  'review_text': \"The Soldier 76 statue is so well made and detailed. The postcards are worthy of being framed because the art style is so gorgeous. Flipping through the art book while listening to the fantastic soundtrack is a lot of fun. Even the box itself is a work of art. This collector's edition comes with various in-game goodies in addition to some free cards to some other Blizzard games, like codes to try World of Warcraft and Starcraft 2 free. Which doesn't make sense since you can already get free trials without the codes, but I suppose they're more for advertisement than anything else. I definitely recommend this collector's edition. It is well worth the price. Even if you're new to first-person shooters, Overwatch is fun and easy to learn.\",\n",
       "  'review_profile_name': 'Brittany',\n",
       "  'review_star': '5.0'},\n",
       " {'review_date': 'May23,2016',\n",
       "  'review_text': \"Overwatch was plenty of fun during the Beta, and a game I've been anticipating highly.  My review will be based on continued experiences of the product as a collectors edition and game, thus updated on a periodic basis.The physical product was heavier than I expected, even without the figure, but really good packaging all around.  I love collectors editions, especially since digital distribution has become the prevalent market share for video games.  Boxes have always been a display item, and artwork in a sense to me, so I appreciate a good collectors edition box.  The contents of the box include the statue, which is pretty nautical so to speak; I would have preferred the statute to have colour though.  Postcards of areas where the characters originate, I assume, was really neat little addition.  The art book contained some interesting artwork that anyone should take some time to go through.  Lastly there were guest passes, free heroes and cards for other blizzard games, a black widow skin.The game itself, since I played the beta quite a bit I will say the games overall feel, theme, design, and characters are all exceptionally enjoyable.  My personal favourite characters included D.Va and Mcree. I love the exploding ability of D.va and just using the revolver was so surreal in game play as you take out an entire team like it's the old west.  One of my favourite aspects of the game is that characters each have a strong and unique personality that fits their role well.  When you play the game you don't feel like just a soldier on a Battlefield, but you serve a unique purpose to your team.  Even further, there is a wide selection of characters to choose from to fit everyone tastes.The visuals of the game play are not realistic, but quite artistic which I love about this game.  Gritty first person shooters are very generic these days, although Battlefield games are an exception in my opinion.  Great performance, visually appealing artistic graphics, and a unique style at that really make me enjoy this game.  The games performance during the beta was really good and very few problems comparatively to other betas I've been in, so I except few issues overall except minor tweaks here and there.Overall, this is a fantastic game, and I will be updating my review over periods of game play to reflect my thoughts better.  My hopes are that they listen to the community and not make defunct adjustments as seen in other games.UPDATE 1: So for this game has been really fun, and almost no issues.  Overwatch feels very polished, performs really well, and the worst thing I've encountered are server issues occasionally, but insignificant.  One thing I am glad to see is that the only micro-transactions are for the impatient, and that you do not need to buy anything; it's all cosmetic and earned by levelling or buying loot boxes.  Highlights are awesome, but at this point inconsistent feeling with actual awesome plays I've seen people do in game.Would I recommend this game, and the collectors edition? I would highly recommend it!Justice ain't gonna dispense itself, so see you all in game!\",\n",
       "  'review_profile_name': 'Thomas Rauk',\n",
       "  'review_star': '5.0'},\n",
       " {'review_date': 'July18,2017',\n",
       "  'review_text': \"For those new with Blizzard products, you might want to find a more in depth explanation over what exactly the Collector edition is, but for those with previous knowledge, and want to know about all of the goodies found inside, this is for you.Firstly, that packaging... It's glorious, I had to hesitate throwing away the exterior box just do to the quality it has, the plastics feel awesome, and the interior has a felt molded plastic to hold all of the products inside gently.It's awesome.Secondly, and the main reason I am sure most of you would consider getting this in the first place, is the Soldier 76 Statue.It probably wont blow your mind, due to it not being colored brightly, and the detail being limited in a way by that.But for minimalism sake... It's gorgeous, the dark aged grey, with the greened out metal look makes this almost feel like an ancient statue built to commemorate the heroes of this universe.I am sure almost anyone who gets it will not be disappointed.Next (And always something I love in Limited editions and such)Is the Steelbook.One side is a light grey steel of Tracer, and the other, a darker side with reaper on it.It's lovely, no complaints, I think Blizzard hit all of the marks with this oneAnd for the last few bits of paperwork, I am not huge on artwork books, even being a somewhat artist myself, going through concept art isn't exactly what I love to do... I do however love the fact it includes backstories, details about the characters and the world they exist in.Canon? Yes plz.Gorgeous graphics to go along the story? Yes plz.All in all a great bargain for your dollar? Yes plz.If you like this style of collectors editions, and have a few extra bucks to stretch out, go for this edition, you wont regret it.\",\n",
       "  'review_profile_name': 'Philip',\n",
       "  'review_star': '5.0'},\n",
       " {'review_date': 'July2,2016',\n",
       "  'review_text': \"I preordered the collector's edition and it was totally worth it. Not even going to talk about the game as plenty of other reviewers have already covered it. The statue was much larger and heavier than expected, very detailed and well made. The artbook is hardcover and full-sized (unlike some of the DVD case sized artbooks out there) and contains lore about Overwatch (the organization) and characters. At the time of writing, the soundtrack is only available on iTunes, so the CD is still a cool exclusive which I hope stays that way.\",\n",
       "  'review_profile_name': 'Rokushou',\n",
       "  'review_star': '5.0'},\n",
       " {'review_date': 'October2,2016',\n",
       "  'review_text': \"This game is fun, the collector's edition is a great add to your other collector's editions you might have...or not have. This is actually mi first collector's edition of any game and I love it. The statue makes a really nice decoration around your room/house and the other extras are neat. Game-wise, you will have hours of entertainment with this game. If you like FPS games and dont have too many time on hand to play long hours, this game is for you. A normal match will take between 3 to 8 minutes, 10 if both teams are equally good, kind of short but in the end you just want to keep on playing.\",\n",
       "  'review_profile_name': 'rluise',\n",
       "  'review_star': '5.0'},\n",
       " {'review_date': 'March19,2017',\n",
       "  'review_text': 'Well, it\\'s a box, inside a box, inside a box, and the \"Soldier\" is in another box (really).  The outside box, seems to be the original package sent to Amazon from Activision (blizzard), with a sticker  \"do not sell before may 23, 2016\".Soldier statue it\\'s detailed, with a heavy base, but not colored.... The package is a \"perfect fit\", so everything comes in mint condition.The game DVD it\\'s in a \"metal like\" case. The art book comes with an explanation of every hero and some art of course. Postcards are nice to fit in a photo frame, or a board in the Wall.It\\'s a nice combo for $79.Shipping overseas is not cheap, the box weight like 6/7 Kg, and it\\'s huge.Picture: Side to Side with \"Doom\" Collector\\'s Edition statue :)',\n",
       "  'review_profile_name': 'Edu Moes',\n",
       "  'review_star': '4.0'},\n",
       " {'review_date': 'May28,2016',\n",
       "  'review_text': \"I love everything about this Collector's Edition! The hardy quality box, the gorgeous concept book, the sleek metal case and the weighty statue of Soldier 76! This CE is cheaper than some of the WOW CEs but packs more punch than the usual stuff! Oh and there are the soundtrack, postcards of maps, 3 HS packs, 1 HOTS hero, some trial keys and the in-game cosmetic items for the other Blizz games. Blizz really provided a very good value for this CE!The game itself is a really easy to get into FPS which let's you play one of the many interesting and diverse heroes in a 6v6 team format. Most maps include fast-paced situations, competitive objectives and lots of different ways for your team of heroes to utilize their abilities in gaining the upper hand. There are a lot of unlockables and the UI is perfect. It is always a joy to play this game with the excellent audio and tight controls. The art style is colorful and excellent for the theme with lots of backstory being told to us one at a time by Blizz thru short comics and movies. It really gets you excited about what Blizz is going to expand on this universe.\",\n",
       "  'review_profile_name': 'Maraxus Lee',\n",
       "  'review_star': '5.0'},\n",
       " {'review_date': 'December18,2017',\n",
       "  'review_text': 'Our 13 year old son broke down the box into its different elements and constructed a mini shrine with the statue.  The included book held his attention and was a nice addition for him.',\n",
       "  'review_profile_name': 'Chris Armstrong',\n",
       "  'review_star': '5.0'},\n",
       " {'review_date': 'March24,2017',\n",
       "  'review_text': 'I bought these to collect. Have not unboxed them, hoping they will increase in value in a few years.The box is huge and heavy! Comparing to Starcraft or Diablo collectors editions, this seems to be such a great value at $79 right now.One interesting observation is that the box has a label that said do not open until \"6/25/2016\". Which means these are the original stocks, I think they don\\'t make any more of these?',\n",
       "  'review_profile_name': 'Larry Chen',\n",
       "  'review_star': '5.0'},\n",
       " {'review_date': 'December27,2017',\n",
       "  'review_text': \"Best bang for your buck. This is THE BEST CE. The only thing that would make it even better is if Soldier 76 (one of my mains) was in color. But honestly, for everything you're getting, I am the happiest camper. You WILL get the pre-order bonus code for Widowmaker's Noire skin in the box, but I'm not sure when it expires. If you can afford this, GET IT. IT'S SO CHEAP. 10/10 collector's edition.\",\n",
       "  'review_profile_name': 'C',\n",
       "  'review_star': '5.0'},\n",
       " {'review_date': 'June19,2016',\n",
       "  'review_text': \"Overwatch is the most fun game I've played in years. In less than a month I have over 50 hours of game time (I'd have more if it wasn't for work and real life getting in the way) and I don't see myself getting bored anytime soon. This is my first Collector's Edition for a video game and I am very happy with my purchase. The statue of Soldier: 76 is great and it's even biggest than the Tracer statue I bought from Blizzard. The sourcebook is amazing and I plan to frame the postcards of the maps. Honestly, the statue alone is worth the extra cost of the Collector's Edition so everything else is just a bonus in my opinion.\",\n",
       "  'review_profile_name': 'Kindle Customer',\n",
       "  'review_star': '5.0'},\n",
       " {'review_date': 'June5,2017',\n",
       "  'review_text': \"It is amazing!!! The box is huge and the quality is amazing! Mine came with a code for the Widow Maker Noire Skin so if you didn't know that it came with that it does! The figure isn't metal but a resin material but it still looks amazing! The Art book is one of my favorite items besides the game of course. The game alone normally cost $40 for just the download so for $40 more you're also getting a steel-book copy of the game as well as all the other goodies!! TOTALLY WORTH THE MONEY!!! Better than my expectations!\",\n",
       "  'review_profile_name': 'Cheyenne K.',\n",
       "  'review_star': '5.0'},\n",
       " {'review_date': 'May30,2017',\n",
       "  'review_text': \"I've gotten collector's editions of WoW for years, but this blows those out of the water. The figure, and for that matter, the box is bigger than I expected. The soundtrack is great. But best of all is the visual sourcebook. It explains the history of the Overwatch and lists abilities for every character, all with amazing art on every page.If you're on the fence about buying this, do it. You won't regret it.\",\n",
       "  'review_profile_name': 'Brooke',\n",
       "  'review_star': '5.0'},\n",
       " {'review_date': 'September21,2016',\n",
       "  'review_text': \"Great game. I have found myself getting easily bored nowadays with any new FPS game that comes out pretty quickly. Overwatch has easily changed that. The collectors edition comes with some great physical extras as well. The statue is great quality and has some good weight to it, which I find to be lacking in most physical items given with a lot of other collector's edition games.\",\n",
       "  'review_profile_name': 'Richard',\n",
       "  'review_star': '5.0'},\n",
       " {'review_date': 'May23,2016',\n",
       "  'review_text': 'Simply amazing game!  I mean when you can have this much fun in just an average of 7 minutes in a game, and feel like youve played a lot of games in a short time that you may only have (like one hour), then Blizzard, youve done it again!  The collectors Edition has excellent presentation, really nice, (and much bigger than expected) statue!The game has excellent musical score (as Blizzard never fails to do),  excellent smooth gameplay, and that Blizzard built it so it can run on even much older machines.  Great Job Blizzard, yet again!',\n",
       "  'review_profile_name': 'JC',\n",
       "  'review_star': '5.0'},\n",
       " {'review_date': 'March16,2017',\n",
       "  'review_text': \"A collection of all kinds of goodies, including artwork and backstory behind this game. I just wish the Soldier 76 figure was painted instead of just silver. This is personally the best multiplayer Blizzard game I've played since the days of StarCraft Brood War.\",\n",
       "  'review_profile_name': 'Tony',\n",
       "  'review_star': '4.0'},\n",
       " {'review_date': 'March30,2017',\n",
       "  'review_text': \"This collector's edition has great value.  The DVD game itself is worth $59.99.  For $20 extra, you get Soldier 76 statue, an Art book, Soundtrack, and Post Cards.  This is sold out everywhere else, only Amazon has it now.\",\n",
       "  'review_profile_name': 'Paul Lee',\n",
       "  'review_star': '5.0'},\n",
       " {'review_date': 'April7,2017',\n",
       "  'review_text': 'Birthday present for my son. Although he mostly games on the PS4, he likes the game play on the PC better for this game. He loves the statue.',\n",
       "  'review_profile_name': 'Lane A.',\n",
       "  'review_star': '5.0'},\n",
       " {'review_date': 'February20,2019',\n",
       "  'review_text': 'A very nice collectors edition, with a ton of goodies and codes, plus a cool Soldier 76 figure.',\n",
       "  'review_profile_name': 'Ricardo C.',\n",
       "  'review_star': '5.0'},\n",
       " {'review_date': 'September18,2016',\n",
       "  'review_text': 'Amazing game, really fun to play. The statue is really good quality, the steelcase is kind of my favorite part though, it also looks amazing. Blizzard collector editions are always top notch!',\n",
       "  'review_profile_name': 'Cory Schneider',\n",
       "  'review_star': '5.0'},\n",
       " {'review_date': 'October8,2016',\n",
       "  'review_text': \"Loved the statute and box. The overall presentation of the included contents is nice. The postcards are kinda eh because I can't remember the last time I've ever mailed anything besides business related stuff.\",\n",
       "  'review_profile_name': 'J. Nicholson',\n",
       "  'review_star': '5.0'},\n",
       " {'review_date': 'April20,2017',\n",
       "  'review_text': 'Why is the solider 76 not painted? But in consideration of the price, it forgive this.',\n",
       "  'review_profile_name': 'rrrrrrr',\n",
       "  'review_star': '5.0'},\n",
       " {'review_date': 'November30,2018',\n",
       "  'review_text': \"I already have this collector's version of the game, but I really like this statue, so I bought it. There are a lot of good postcards in it. Blizzard is a must.\",\n",
       "  'review_profile_name': 'Max',\n",
       "  'review_star': '5.0'},\n",
       " {'review_date': 'June13,2016',\n",
       "  'review_text': \"This was epic to open, the packaging was flawless, and Soldier 76 now stoically guards my battle station :)If you're a huge fan of Overwatch and the futuristic world Blizzard has created to inspire classic heroism, you won't be disappointed with owning the soundtrack or statue.\",\n",
       "  'review_profile_name': 'Thatoneguy',\n",
       "  'review_star': '5.0'},\n",
       " {'review_date': 'June16,2016',\n",
       "  'review_text': \"Ive been anticipating it since Alpha and it's still great. Blizzard really polished it up and I hope they continue to do so.Im not a big PVP FPS fan and I haven't played a team FPS game since Team Fortress launched.This is great for beginners who wanna just pick it up, but also great for veteran gamers.\",\n",
       "  'review_profile_name': 'VKRB',\n",
       "  'review_star': '5.0'},\n",
       " {'review_date': 'June21,2016',\n",
       "  'review_text': 'The Statue is a great size and wonderfully crafted. Everything included is high quality. The game is the funnest I have had in years of gaming, and I cant wait to play more. Truly cant say anything bad about it.',\n",
       "  'review_profile_name': 'M. & K. Goodrich',\n",
       "  'review_star': '5.0'},\n",
       " {'review_date': 'February28,2017',\n",
       "  'review_text': \"I haven't enjoyed a multiplayer game this much in a long time! I actually play this game on PS4 but I really wanted the collectors edition. Everything in this collection is identical for all 3 formats (PC/PS4/XOne) minus the disc itself and Widowmakers Noire skin will only work for the format it's intended for. Other than that all the physical stuff is the same. The PC version was $80 at time of purchase and I couldn't pass up deal! I absolutely love the outer box, visual art book and steelbook case. My biggest surprise was the artbook! I liked it a lot more than I thought I would. The statue was what I really wanted from this collection but after seeing it in person I'm actually a little bummed out it isn't painted. The statue is high quality and very detailed but since it's black it's hard to appreciate it. Gaming soundtracks I usually never open as I listen to the music plenty during gaming but I do like having the albums as collectibles. All in all a great set to add to my gaming collection. Also really excited to be able to play this on PC also once I upgrade my rig!\",\n",
       "  'review_profile_name': 'J',\n",
       "  'review_star': '5.0'},\n",
       " {'review_date': 'May9,2017',\n",
       "  'review_text': 'The shipping was so quick and the box was packed well! The product is everything as described. Thank you so much!',\n",
       "  'review_profile_name': 'Kat',\n",
       "  'review_star': '5.0'},\n",
       " {'review_date': 'May23,2016',\n",
       "  'review_text': 'Played in Beta (although I had already pre-ordered thanks to my semi-Blizzard fanboyism.This Collector\\'s Edition was a bargain for the Amazon Prime price.-The Statue is HUGE (athough uncolored)-The artbook/tidbit book may be their best yet-Soundtrack DVD-3 free packs of Hearthstone (original)-Free Jaina hero in HoTS-All the Origins goodies-Superb packaging job. It\\'s a very awesome box and shows how much attention they put into this CE.The game itself is a lot of fun for a casual player and has enough depth that I feel FPS vets will have a grand time with friends. There are so many heroes, and they all play so very differently, it will be hard to get bored. In fact the only weakness the game has is in the actual game modes. Control is not very interesting and Assault is so similar it might as well be labelled \"Control\". Overall though, the matches are so fast that even a dud level will quickly pass and it\\'s on to a new battle.',\n",
       "  'review_profile_name': 'Aydan',\n",
       "  'review_star': '5.0'},\n",
       " {'review_date': 'April26,2017',\n",
       "  'review_text': \"If you like opening boxes inside boxes this is for you! There's tons of cool collectible stuff inside. The game itself is awesome and easy to setup.\",\n",
       "  'review_profile_name': 'DBram',\n",
       "  'review_star': '5.0'},\n",
       " {'review_date': 'November21,2016',\n",
       "  'review_text': 'Happy I got this collectors box, I pained my Solider 76 gold and it turned out great.',\n",
       "  'review_profile_name': 'Hussein J Yusuf',\n",
       "  'review_star': '5.0'},\n",
       " {'review_date': 'May24,2016',\n",
       "  'review_text': 'love it. esp. the collectors ed.  still waiting on the soldier statue that was missing from the box but everything else arrived as promised and its fantastic.  my boys are crazy about this set.',\n",
       "  'review_profile_name': 'Patty A',\n",
       "  'review_star': '4.0'},\n",
       " {'review_date': 'April16,2017',\n",
       "  'review_text': \"I didn't open it, can't ruin the pristine box.\",\n",
       "  'review_profile_name': 'Dylan Haschka',\n",
       "  'review_star': '5.0'},\n",
       " {'review_date': 'April1,2017',\n",
       "  'review_text': \"Well it's a collector's editions, so yes it's great.\",\n",
       "  'review_profile_name': 'Gerardo O.',\n",
       "  'review_star': '5.0'},\n",
       " {'review_date': 'August6,2020',\n",
       "  'review_text': 'Had problems with the delivery since it got lost but when it came im really satisfied with the content. I love this game and the soldier statue really looks good',\n",
       "  'review_profile_name': 'J.N',\n",
       "  'review_star': '5.0'},\n",
       " {'review_date': 'March17,2018',\n",
       "  'review_text': 'good game',\n",
       "  'review_profile_name': 'Dark',\n",
       "  'review_star': '4.0'},\n",
       " {'review_date': 'December13,2016',\n",
       "  'review_text': 'Beautifully designed box set. Great game. Not much to say.',\n",
       "  'review_profile_name': 'Maria Mohr',\n",
       "  'review_star': '5.0'},\n",
       " {'review_date': 'September5,2017',\n",
       "  'review_text': 'The figure statue is really great, and art book is awesome as well.',\n",
       "  'review_profile_name': 'Jonathan Tsao',\n",
       "  'review_star': '5.0'},\n",
       " {'review_date': 'November28,2017',\n",
       "  'review_text': 'VERY PLEASE AND I KNOW MY GRANDDAUGHTER WILL TOO. AWESOME SET ESPECIALLY FOR THE PRICE!!!',\n",
       "  'review_profile_name': 'Cheryl C.',\n",
       "  'review_star': '5.0'},\n",
       " {'review_date': 'April28,2017',\n",
       "  'review_text': 'amazing value',\n",
       "  'review_profile_name': 'Dirk Fischer',\n",
       "  'review_star': '5.0'},\n",
       " {'review_date': 'April25,2017',\n",
       "  'review_text': \"This is an awesome deal for Overwatch fans!  The Soldier76 was a lot bigger than expected.  To set the figure on the display - read the directions!  I noticed other people have been drilling holes, which is unnecessary, you just gently spread the legs.  The book is really informative and interesting (good Coffee Table Book for gamers) and the postcards are fun. There is a soundtrack, which I haven't listened to yet, but I am assuming it is as good as everything else received.  Lastly, I did get the Noire Widowmaker skin, it was in the case for the game disk, on a small card, look at all the inserts and you will find it.  All of that and the game as well!!\",\n",
       "  'review_profile_name': 'Holly J. Blake',\n",
       "  'review_star': '5.0'},\n",
       " {'review_date': 'March21,2017',\n",
       "  'review_text': 'Got it for the Widowmaker Noire skin even though I already had the origins edition...',\n",
       "  'review_profile_name': 'Rick V.',\n",
       "  'review_star': '5.0'},\n",
       " {'review_date': 'January2,2017',\n",
       "  'review_text': 'Amazing package. Statue is very details and high quality. The art extras are fun to look at and very inspiring. The games is an absolute blast to play, especially with friends.',\n",
       "  'review_profile_name': 'Neue',\n",
       "  'review_star': '5.0'},\n",
       " {'review_date': 'October1,2016',\n",
       "  'review_text': 'The game is great! The collectors edition was well worth the money. The art book is phenomenal and the statue looks great on my desk.',\n",
       "  'review_profile_name': 'Andy',\n",
       "  'review_star': '5.0'},\n",
       " {'review_date': 'November30,2017',\n",
       "  'review_text': \"My audio CD didn't work.\",\n",
       "  'review_profile_name': 'Aurores',\n",
       "  'review_star': '4.0'},\n",
       " {'review_date': 'July25,2016',\n",
       "  'review_text': \"This is a GREAT box set made with a lot of care. More collector's editions should be like this.\",\n",
       "  'review_profile_name': 'chris',\n",
       "  'review_star': '5.0'},\n",
       " {'review_date': 'December5,2017',\n",
       "  'review_text': \"A great addition to any Overwatch Fan's collection.\",\n",
       "  'review_profile_name': 'Amazon Customer',\n",
       "  'review_star': '5.0'},\n",
       " {'review_date': 'May25,2016',\n",
       "  'review_text': \"Great game.  Was glad the collector's edition was still available a week before release.\",\n",
       "  'review_profile_name': 'Stanford K.',\n",
       "  'review_star': '5.0'},\n",
       " {'review_date': 'June11,2016',\n",
       "  'review_text': 'The statue is high quality. The art books are awesome. Very fun game.',\n",
       "  'review_profile_name': 'Gil',\n",
       "  'review_star': '5.0'},\n",
       " {'review_date': 'January14,2020',\n",
       "  'review_text': 'Love the statue',\n",
       "  'review_profile_name': 'Berylapin',\n",
       "  'review_star': '5.0'},\n",
       " {'review_date': 'August12,2017',\n",
       "  'review_text': 'Box incredible. Super game and extras very nice.',\n",
       "  'review_profile_name': 'Eduardo',\n",
       "  'review_star': '5.0'},\n",
       " {'review_date': 'March18,2020',\n",
       "  'review_text': 'Missing Noire Skin Code.',\n",
       "  'review_profile_name': 'Danny',\n",
       "  'review_star': '1.0'},\n",
       " {'review_date': 'January25,2018',\n",
       "  'review_text': 'Great',\n",
       "  'review_profile_name': 'Sakhawat Ali',\n",
       "  'review_star': '5.0'},\n",
       " {'review_date': 'June10,2016',\n",
       "  'review_text': 'Amazing packaging, product, and game.',\n",
       "  'review_profile_name': 'Kevin Culp',\n",
       "  'review_star': '5.0'},\n",
       " {'review_date': 'June23,2016',\n",
       "  'review_text': \"I rarely buy collector's edition games, but couldn't pass this one up. Everything is sturdy and looks beautiful! Definitely worth the money!\",\n",
       "  'review_profile_name': 'B C',\n",
       "  'review_star': '5.0'},\n",
       " {'review_date': 'July7,2016',\n",
       "  'review_text': 'Aghhhh this box set is perfect, I love Overwatch and it felt great getting such a goodie box for a great price :)',\n",
       "  'review_profile_name': 'Kristiana Marie',\n",
       "  'review_star': '5.0'},\n",
       " {'review_date': 'June26,2016',\n",
       "  'review_text': 'super nice',\n",
       "  'review_profile_name': 'fvgromanelli',\n",
       "  'review_star': '5.0'},\n",
       " {'review_date': 'October20,2017',\n",
       "  'review_text': 'Well worth the wait.',\n",
       "  'review_profile_name': 'Ian',\n",
       "  'review_star': '5.0'},\n",
       " {'review_date': 'July30,2017',\n",
       "  'review_text': 'Very happy!!!!',\n",
       "  'review_profile_name': 'Amazon Customer',\n",
       "  'review_star': '5.0'},\n",
       " {'review_date': 'July12,2016',\n",
       "  'review_text': 'Worth It!  The Statue Looks AWESOME!',\n",
       "  'review_profile_name': 'Anonymous',\n",
       "  'review_star': '5.0'},\n",
       " {'review_date': 'July23,2016',\n",
       "  'review_text': \"I love Collector's Editions for video games. The statue was nice and detailed. The art book and the postcards were a nice touch. The game is enjoyable and takes up a lot of my time.\",\n",
       "  'review_profile_name': 'Rina W',\n",
       "  'review_star': '5.0'},\n",
       " {'review_date': 'June22,2016',\n",
       "  'review_text': 'MEI IS BAE',\n",
       "  'review_profile_name': 'M & M',\n",
       "  'review_star': '5.0'},\n",
       " {'review_date': 'March24,2017',\n",
       "  'review_text': 'Blizzard has a really good rep on their Collector\\'s Edition, Overwatch is not an excepetion:Art book, 14\" S76 Figure, Metal Case, etc... It worths every cent.',\n",
       "  'review_profile_name': 'Jimmy',\n",
       "  'review_star': '5.0'},\n",
       " {'review_date': 'June20,2016',\n",
       "  'review_text': 'Good',\n",
       "  'review_profile_name': 'Jeffrey M. Harrison',\n",
       "  'review_star': '5.0'},\n",
       " {'review_date': 'June30,2016',\n",
       "  'review_text': 'amazing, but wanting more.',\n",
       "  'review_profile_name': 'David Scott',\n",
       "  'review_star': '4.0'},\n",
       " {'review_date': 'September11,2017',\n",
       "  'review_text': \"I love the Soldier 76 statue. This met my expectations and then some. I put the Soldier statue on the box next to my D. Va one and it's awesome.\",\n",
       "  'review_profile_name': 'Shadow',\n",
       "  'review_star': '5.0'},\n",
       " {'review_date': 'July25,2016',\n",
       "  'review_text': 'This games great. Statues great. Blizzard makes quality games.',\n",
       "  'review_profile_name': 'Amazon Customer',\n",
       "  'review_star': '5.0'},\n",
       " {'review_date': 'May26,2017',\n",
       "  'review_text': 'The presentation and quality behind everything in this collectors edition is top notch. Im so happy and dont regret buying this.',\n",
       "  'review_profile_name': 'Amazon Customer',\n",
       "  'review_star': '5.0'},\n",
       " {'review_date': 'May23,2016',\n",
       "  'review_text': 'Great Game must buy packaging and contents are visual appealing well thought out on blizzards side.',\n",
       "  'review_profile_name': 'Shadowbl4ze',\n",
       "  'review_star': '5.0'},\n",
       " {'review_date': 'May24,2016',\n",
       "  'review_text': \"Collector's Edition comes with everything advertised plus more! Game comes Tracer HotS heroine AND a BONUS Jaina HotS heroine.\",\n",
       "  'review_profile_name': 'Bear',\n",
       "  'review_star': '5.0'},\n",
       " {'review_date': 'May23,2016',\n",
       "  'review_text': \"The game itself I would give four stars - I already have a review saying I prefer Battleborn. But despite that this is a masterful collector's edition - the best I have ever purchased. Normally if you buy a collectors edition you get some lame art book, maybe a guide if lucky, some useless code and a low quality stature that feels it will break apart.The reality is most collectors edition are a scam to squeeze extra money by boxing up low quality products or products you will never use and forget you even own. But as I already said, no need to worry here the statue is incredible and all the items this comes with - can't remember the last time I got a high quality statue in a collectors edition.I rarely buy collectors editions but I am glad I did in this case. Hard to imagine anyone having issues with this purchase. The game itself is fun and I think heroes go along way to keep the game fresh over classes but for whatever reason I think there is a danger this game could get old somewhat fast. Probably just me but I get burned out on multiplayer pretty quickly for most games. Hoping campaigns and PvE are added later in great focus.\",\n",
       "  'review_profile_name': 'C.M. Frazier',\n",
       "  'review_star': '5.0'},\n",
       " {'review_date': 'May13,2017',\n",
       "  'review_text': 'A++ Thank you',\n",
       "  'review_profile_name': 'Z',\n",
       "  'review_star': '5.0'},\n",
       " {'review_date': 'May24,2016',\n",
       "  'review_text': 'The statue was much better quality and bigger than I expected.',\n",
       "  'review_profile_name': 'Kindle Customer',\n",
       "  'review_star': '5.0'},\n",
       " {'review_date': 'August4,2016',\n",
       "  'review_text': 'Great',\n",
       "  'review_profile_name': 'Edison Antonio Peiro Junior',\n",
       "  'review_star': '5.0'},\n",
       " {'review_date': 'July19,2016',\n",
       "  'review_text': 'The product is really good though the outside cover was slightly damaged during the shipping from US to China, the inside still remain intact. Really good collector edition.',\n",
       "  'review_profile_name': 'Amazon Customer',\n",
       "  'review_star': '5.0'}]"
      ]
     },
     "execution_count": 7,
     "metadata": {},
     "output_type": "execute_result"
    }
   ],
   "source": [
    "reviews"
   ]
  },
  {
   "cell_type": "code",
   "execution_count": 8,
   "metadata": {},
   "outputs": [],
   "source": [
    "#csv 내보내기\n",
    "keys = reviews[0].keys() \n",
    "with open('amazon_overwatch_review.csv', 'w', encoding=\"utf-8\") as f:\n",
    "    dict_writer = csv.DictWriter(f, delimiter=',', lineterminator='\\n', fieldnames=keys)\n",
    "    dict_writer.writeheader() \n",
    "    dict_writer.writerows(reviews)"
   ]
  }
 ],
 "metadata": {
  "kernelspec": {
   "display_name": "Python 3",
   "language": "python",
   "name": "python3"
  },
  "language_info": {
   "codemirror_mode": {
    "name": "ipython",
    "version": 3
   },
   "file_extension": ".py",
   "mimetype": "text/x-python",
   "name": "python",
   "nbconvert_exporter": "python",
   "pygments_lexer": "ipython3",
   "version": "3.6.8"
  }
 },
 "nbformat": 4,
 "nbformat_minor": 2
}
